{
 "cells": [
  {
   "cell_type": "code",
   "execution_count": 1,
   "id": "12fd40d1",
   "metadata": {},
   "outputs": [],
   "source": [
    "class pwskills:\n",
    "    def welcome(self):\n",
    "        print(\"Hello There!!!!\")\n"
   ]
  },
  {
   "cell_type": "code",
   "execution_count": 2,
   "id": "23b418b7",
   "metadata": {},
   "outputs": [],
   "source": [
    "rohan = pwskills()"
   ]
  },
  {
   "cell_type": "code",
   "execution_count": 4,
   "id": "c0df7567",
   "metadata": {},
   "outputs": [
    {
     "name": "stdout",
     "output_type": "stream",
     "text": [
      "Hello There!!!!\n"
     ]
    }
   ],
   "source": [
    "rohan.welcome()"
   ]
  },
  {
   "cell_type": "code",
   "execution_count": 9,
   "id": "83fc877e",
   "metadata": {},
   "outputs": [],
   "source": [
    "class pwskills1:\n",
    "    def __init__(self,name,age,email,add):\n",
    "        self.name = name\n",
    "        self.age = age \n",
    "        self.email = email\n",
    "        self.add = add\n",
    "        \n",
    "    def details(self):\n",
    "        return self.name,self.age,self.email,self.add\n"
   ]
  },
  {
   "cell_type": "code",
   "execution_count": 27,
   "id": "0856c23e",
   "metadata": {},
   "outputs": [],
   "source": [
    "rohan = pwskills1(rohan,\"hddf\",23,\"fdf\")"
   ]
  },
  {
   "cell_type": "code",
   "execution_count": 33,
   "id": "574df1e3",
   "metadata": {},
   "outputs": [],
   "source": [
    "class web_dev:\n",
    "    def syllabus(self):\n",
    "        print(\"This is my web_dev syllabus\")\n",
    "\n",
    "class data_science:\n",
    "    def syllabus(self):\n",
    "        print(\"This is my data science syllabus\")\n",
    "        "
   ]
  },
  {
   "cell_type": "code",
   "execution_count": 34,
   "id": "f3a2bf24",
   "metadata": {},
   "outputs": [],
   "source": [
    "def class_parcer(class_obj):\n",
    "    for i in class_obj:\n",
    "        i.syllabus()\n"
   ]
  },
  {
   "cell_type": "code",
   "execution_count": 35,
   "id": "7292956a",
   "metadata": {},
   "outputs": [],
   "source": [
    "obj1 = web_dev()\n",
    "obj2 = data_science()\n",
    "class_obj = [obj1,obj2]"
   ]
  },
  {
   "cell_type": "code",
   "execution_count": 38,
   "id": "76f4ff81",
   "metadata": {},
   "outputs": [
    {
     "name": "stdout",
     "output_type": "stream",
     "text": [
      "This is my web_dev syllabus\n",
      "This is my data science syllabus\n"
     ]
    }
   ],
   "source": [
    "class_parcer(class_obj)"
   ]
  },
  {
   "cell_type": "code",
   "execution_count": 39,
   "id": "806f6ada",
   "metadata": {},
   "outputs": [],
   "source": [
    "def test(a,b):\n",
    "    return a+b\n",
    "\n",
    "    "
   ]
  },
  {
   "cell_type": "code",
   "execution_count": 40,
   "id": "d21a2a4e",
   "metadata": {},
   "outputs": [
    {
     "data": {
      "text/plain": [
       "10"
      ]
     },
     "execution_count": 40,
     "metadata": {},
     "output_type": "execute_result"
    }
   ],
   "source": [
    "test(4,6)"
   ]
  },
  {
   "cell_type": "code",
   "execution_count": 42,
   "id": "a6a13366",
   "metadata": {},
   "outputs": [
    {
     "data": {
      "text/plain": [
       "'sudh Kumar'"
      ]
     },
     "execution_count": 42,
     "metadata": {},
     "output_type": "execute_result"
    }
   ],
   "source": [
    "test(\"sudh\",\" Kumar\")"
   ]
  },
  {
   "cell_type": "code",
   "execution_count": 37,
   "id": "2bb697ab",
   "metadata": {},
   "outputs": [],
   "source": [
    "class car:\n",
    "    def __init__(self,name,model,year,speed):\n",
    "        self.__name = name\n",
    "        self.__model = model\n",
    "        self.__year = year\n",
    "        self.__speed= 0\n",
    "    \n",
    "    def set_speed(self,speed):\n",
    "        self.__speed = 0 if speed<0 else speed\n",
    "        \n",
    "    def get_speed(self):\n",
    "        return self.__speed\n",
    "        "
   ]
  },
  {
   "cell_type": "code",
   "execution_count": 38,
   "id": "f7782805",
   "metadata": {},
   "outputs": [],
   "source": [
    "c = car(\"Toyata\",\"Innova\",2012,12)"
   ]
  },
  {
   "cell_type": "code",
   "execution_count": 39,
   "id": "a0672285",
   "metadata": {},
   "outputs": [
    {
     "data": {
      "text/plain": [
       "2012"
      ]
     },
     "execution_count": 39,
     "metadata": {},
     "output_type": "execute_result"
    }
   ],
   "source": [
    "c._car__year"
   ]
  },
  {
   "cell_type": "code",
   "execution_count": 40,
   "id": "89392476",
   "metadata": {},
   "outputs": [
    {
     "data": {
      "text/plain": [
       "'Innova'"
      ]
     },
     "execution_count": 40,
     "metadata": {},
     "output_type": "execute_result"
    }
   ],
   "source": [
    "c._car__model"
   ]
  },
  {
   "cell_type": "code",
   "execution_count": 41,
   "id": "64ba01d5",
   "metadata": {},
   "outputs": [],
   "source": [
    "c.set_speed(55)"
   ]
  },
  {
   "cell_type": "code",
   "execution_count": 42,
   "id": "13d31c1b",
   "metadata": {},
   "outputs": [
    {
     "data": {
      "text/plain": [
       "55"
      ]
     },
     "execution_count": 42,
     "metadata": {},
     "output_type": "execute_result"
    }
   ],
   "source": [
    "c.get_speed()"
   ]
  },
  {
   "cell_type": "code",
   "execution_count": 69,
   "id": "3ed918e6",
   "metadata": {},
   "outputs": [],
   "source": [
    "class bank_account:\n",
    "    def __init__(self,balance):\n",
    "        self.__balance = balance\n",
    "    \n",
    "    def deposit(self,amount):\n",
    "            self.__balance = self.__balance + amount\n",
    "            \n",
    "    def withdraw(self,amount):\n",
    "        if self.__balance>=amount:\n",
    "            self.__balance = self.__balance - amount\n",
    "            return True\n",
    "        else:\n",
    "            return False\n",
    "        \n",
    "    def get_balance(self):\n",
    "        return self.__balance\n",
    "        "
   ]
  },
  {
   "cell_type": "code",
   "execution_count": 72,
   "id": "93cefb12",
   "metadata": {},
   "outputs": [
    {
     "data": {
      "text/plain": [
       "10000"
      ]
     },
     "execution_count": 72,
     "metadata": {},
     "output_type": "execute_result"
    }
   ],
   "source": [
    "sudh  = bank_account(10000)\n",
    "sudh.get_balance()\n"
   ]
  },
  {
   "cell_type": "code",
   "execution_count": 73,
   "id": "89a5a155",
   "metadata": {},
   "outputs": [
    {
     "data": {
      "text/plain": [
       "True"
      ]
     },
     "execution_count": 73,
     "metadata": {},
     "output_type": "execute_result"
    }
   ],
   "source": [
    "sudh.withdraw(5000)"
   ]
  },
  {
   "cell_type": "code",
   "execution_count": 74,
   "id": "e028d506",
   "metadata": {},
   "outputs": [
    {
     "data": {
      "text/plain": [
       "5000"
      ]
     },
     "execution_count": 74,
     "metadata": {},
     "output_type": "execute_result"
    }
   ],
   "source": [
    "sudh.get_balance()"
   ]
  },
  {
   "cell_type": "code",
   "execution_count": 75,
   "id": "a46e465c",
   "metadata": {},
   "outputs": [],
   "source": [
    "sudh.deposit(12)"
   ]
  },
  {
   "cell_type": "code",
   "execution_count": 76,
   "id": "0ec1703c",
   "metadata": {},
   "outputs": [
    {
     "data": {
      "text/plain": [
       "5012"
      ]
     },
     "execution_count": 76,
     "metadata": {},
     "output_type": "execute_result"
    }
   ],
   "source": [
    "sudh.get_balance()"
   ]
  },
  {
   "cell_type": "markdown",
   "id": "d62a2100",
   "metadata": {},
   "source": [
    "# INHERITANCE"
   ]
  },
  {
   "cell_type": "code",
   "execution_count": 97,
   "id": "f6dd2eaa",
   "metadata": {},
   "outputs": [],
   "source": [
    "class test:\n",
    "    def f1(self):\n",
    "        print(\"This is my parent class\")\n"
   ]
  },
  {
   "cell_type": "code",
   "execution_count": 98,
   "id": "e7a68415",
   "metadata": {},
   "outputs": [],
   "source": [
    "class child_test(test):\n",
    "    pass\n",
    "    "
   ]
  },
  {
   "cell_type": "code",
   "execution_count": 99,
   "id": "0ed2952d",
   "metadata": {},
   "outputs": [],
   "source": [
    "child_obj = child_test()"
   ]
  },
  {
   "cell_type": "code",
   "execution_count": 100,
   "id": "87a1df73",
   "metadata": {},
   "outputs": [
    {
     "name": "stdout",
     "output_type": "stream",
     "text": [
      "This is my parent class\n"
     ]
    }
   ],
   "source": [
    "child_obj.f1()"
   ]
  },
  {
   "cell_type": "markdown",
   "id": "6b58b6e9",
   "metadata": {},
   "source": [
    "# Class Method"
   ]
  },
  {
   "cell_type": "markdown",
   "id": "cc33401a",
   "metadata": {},
   "source": [
    "# Static Method "
   ]
  },
  {
   "cell_type": "code",
   "execution_count": 1,
   "id": "693107aa",
   "metadata": {},
   "outputs": [],
   "source": [
    "class pwskills:\n",
    "    def f1(self):\n",
    "        print(\"I am inside f1\")\n",
    "        \n",
    "    @staticmethod\n",
    "    def f1(list_mentor):\n",
    "        print(list_mentor)\n",
    "        \n",
    "    "
   ]
  },
  {
   "cell_type": "code",
   "execution_count": 2,
   "id": "3de8be9e",
   "metadata": {},
   "outputs": [
    {
     "name": "stdout",
     "output_type": "stream",
     "text": [
      "['krish', 'sudh']\n"
     ]
    }
   ],
   "source": [
    "pwskills.f1([\"krish\",\"sudh\"])"
   ]
  },
  {
   "cell_type": "markdown",
   "id": "c7d59cee",
   "metadata": {},
   "source": [
    "# Dunder "
   ]
  },
  {
   "cell_type": "code",
   "execution_count": 11,
   "id": "58e99346",
   "metadata": {},
   "outputs": [],
   "source": [
    "class pwskills:\n",
    "    def __new__(cls):\n",
    "        print(\"I am inside new\")\n",
    "    \n",
    "    def __init__(self):\n",
    "        self.m_no = 334\n",
    "        print(\"I am inside init\")\n",
    "        \n",
    "        "
   ]
  },
  {
   "cell_type": "code",
   "execution_count": 12,
   "id": "87279ff7",
   "metadata": {},
   "outputs": [
    {
     "name": "stdout",
     "output_type": "stream",
     "text": [
      "I am inside new\n"
     ]
    }
   ],
   "source": [
    "pw = pwskills()"
   ]
  },
  {
   "cell_type": "code",
   "execution_count": null,
   "id": "1411b2aa",
   "metadata": {},
   "outputs": [],
   "source": []
  }
 ],
 "metadata": {
  "kernelspec": {
   "display_name": "Python 3 (ipykernel)",
   "language": "python",
   "name": "python3"
  },
  "language_info": {
   "codemirror_mode": {
    "name": "ipython",
    "version": 3
   },
   "file_extension": ".py",
   "mimetype": "text/x-python",
   "name": "python",
   "nbconvert_exporter": "python",
   "pygments_lexer": "ipython3",
   "version": "3.10.9"
  }
 },
 "nbformat": 4,
 "nbformat_minor": 5
}
