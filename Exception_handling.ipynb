{
 "cells": [
  {
   "cell_type": "code",
   "execution_count": 1,
   "id": "fcd8ea57",
   "metadata": {},
   "outputs": [],
   "source": [
    "f = open(\"test5.txt\",'r')"
   ]
  },
  {
   "cell_type": "code",
   "execution_count": 12,
   "id": "03c00cb2",
   "metadata": {},
   "outputs": [],
   "source": [
    "try:\n",
    "    f = open(\"test5.txt\",'r')\n",
    "    \n",
    "except Exception as e:\n",
    "    print(\"this is my except block \",e)"
   ]
  },
  {
   "cell_type": "code",
   "execution_count": 13,
   "id": "fd727557",
   "metadata": {},
   "outputs": [
    {
     "name": "stdout",
     "output_type": "stream",
     "text": [
      "this is my except block  not writable\n"
     ]
    }
   ],
   "source": [
    "try:\n",
    "    f = open(\"test5.txt\",'r')\n",
    "    f.write(\"Hello I am into test5 file\")\n",
    "    f.close()\n",
    "except Exception as e:\n",
    "    print(\"this is my except block \",e)\n",
    "else:\n",
    "    print(\"This is excuted only if try block is excuted\")"
   ]
  },
  {
   "cell_type": "code",
   "execution_count": 4,
   "id": "461f3420",
   "metadata": {},
   "outputs": [
    {
     "name": "stdout",
     "output_type": "stream",
     "text": [
      "Finally will be excuted at any cost\n"
     ]
    }
   ],
   "source": [
    "try:\n",
    "    f = open(\"test.txt\",'w')\n",
    "    f.write(\"Hello there I am learning try and finally\")\n",
    "finally:\n",
    "    print(\"Finally will be excuted at any cost\")"
   ]
  },
  {
   "cell_type": "markdown",
   "id": "bd993017",
   "metadata": {},
   "source": [
    "### Custom Handling"
   ]
  },
  {
   "cell_type": "code",
   "execution_count": 9,
   "id": "2a3b8b0f",
   "metadata": {},
   "outputs": [],
   "source": [
    "class validateageE(Exception):\n",
    "    def __init__(self,msg):\n",
    "        self.msg = msg\n"
   ]
  },
  {
   "cell_type": "code",
   "execution_count": 10,
   "id": "80a01426",
   "metadata": {},
   "outputs": [],
   "source": [
    "def validateage(age):\n",
    "    if age<0:\n",
    "        raise validateageE(\"entered age is negative\")\n",
    "    elif age>200:\n",
    "        raise validateageE(\"Invalid age\")\n",
    "    else:\n",
    "        print(\"The age is valid\")"
   ]
  },
  {
   "cell_type": "code",
   "execution_count": 11,
   "id": "6e89529c",
   "metadata": {},
   "outputs": [
    {
     "name": "stdout",
     "output_type": "stream",
     "text": [
      "enter you age444\n",
      "Invalid age\n"
     ]
    }
   ],
   "source": [
    "try:\n",
    "    age = int(input(\"enter you age\"))\n",
    "    validateage(age)\n",
    "except validateageE as e:\n",
    "    print(e)"
   ]
  },
  {
   "cell_type": "markdown",
   "id": "67c8ba44",
   "metadata": {},
   "source": [
    "##### Best Pracitces for exception handling"
   ]
  },
  {
   "cell_type": "code",
   "execution_count": 14,
   "id": "eef4ce17",
   "metadata": {},
   "outputs": [
    {
     "name": "stdout",
     "output_type": "stream",
     "text": [
      "division by zero\n"
     ]
    }
   ],
   "source": [
    "try:\n",
    "    10/0\n",
    "except ZeroDivisionError as e:\n",
    "    print(e)"
   ]
  },
  {
   "cell_type": "code",
   "execution_count": 19,
   "id": "dbf4035a",
   "metadata": {},
   "outputs": [],
   "source": [
    "import logging\n",
    "logging.basicConfig(filename = \"error.log\",level = logging.ERROR)\n",
    "try:\n",
    "    10/0\n",
    "except ZeroDivisionError as e:\n",
    "    logging.error(\"i am trying to find error {}\".format(e))"
   ]
  },
  {
   "cell_type": "code",
   "execution_count": null,
   "id": "b4a527d8",
   "metadata": {},
   "outputs": [],
   "source": []
  },
  {
   "cell_type": "code",
   "execution_count": null,
   "id": "df24744a",
   "metadata": {},
   "outputs": [],
   "source": []
  },
  {
   "cell_type": "code",
   "execution_count": null,
   "id": "a0000970",
   "metadata": {},
   "outputs": [],
   "source": []
  }
 ],
 "metadata": {
  "kernelspec": {
   "display_name": "Python 3 (ipykernel)",
   "language": "python",
   "name": "python3"
  },
  "language_info": {
   "codemirror_mode": {
    "name": "ipython",
    "version": 3
   },
   "file_extension": ".py",
   "mimetype": "text/x-python",
   "name": "python",
   "nbconvert_exporter": "python",
   "pygments_lexer": "ipython3",
   "version": "3.10.9"
  }
 },
 "nbformat": 4,
 "nbformat_minor": 5
}
